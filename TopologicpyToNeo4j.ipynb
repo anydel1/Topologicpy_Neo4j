{
 "cells": [
  {
   "cell_type": "code",
   "execution_count": 1,
   "id": "5807871c",
   "metadata": {
    "scrolled": true
   },
   "outputs": [],
   "source": [
    "from topologicpy.Cell import Cell\n",
    "from topologicpy.CellComplex import CellComplex\n",
    "from topologicpy.Topology import Topology\n",
    "from topologicpy.Graph import Graph\n",
    "from topologicpy.Dictionary import Dictionary\n",
    "from topologicpy.Plotly import Plotly\n",
    "from topologicpy.Neo4j import Neo4j"
   ]
  },
  {
   "cell_type": "code",
   "execution_count": 2,
   "id": "6a7fea7e",
   "metadata": {
    "scrolled": false
   },
   "outputs": [
    {
     "name": "stdout",
     "output_type": "stream",
     "text": [
      "<topologic.CellComplex object at 0x000001E5A0CB31B0>\n"
     ]
    }
   ],
   "source": [
    "p = CellComplex.Prism(width=2, uSides=5, vSides=3, wSides=4, placement=\"bottom\")\n",
    "c = Cell.Prism(width=0.8, length=0.8, height=1.2, placement=\"bottom\")\n",
    "p = Topology.Impose(p, c)\n",
    "c = Cell.Prism(width=0.8, length=1.4, height=1.2, placement=\"bottom\")\n",
    "p = Topology.Merge(p, c)\n",
    "\n",
    "print(p)\n",
    "# Topology.Show(p, renderer=\"notebook\")"
   ]
  },
  {
   "cell_type": "code",
   "execution_count": 3,
   "id": "0817b811",
   "metadata": {},
   "outputs": [],
   "source": [
    "# cluster = Topology.Explode(p, scale=1.5)\n",
    "# Topology.Show(cluster, faceOpacity=1)"
   ]
  },
  {
   "cell_type": "code",
   "execution_count": 4,
   "id": "fdf17d77",
   "metadata": {},
   "outputs": [],
   "source": [
    "brep = Topology.BREPString(p)\n",
    "# print(brep)"
   ]
  },
  {
   "cell_type": "code",
   "execution_count": 5,
   "id": "077194a5",
   "metadata": {},
   "outputs": [
    {
     "name": "stdout",
     "output_type": "stream",
     "text": [
      "externalVerticalFaces <class 'list'>\n",
      "internalVerticalFaces <class 'list'>\n",
      "topHorizontalFaces <class 'list'>\n",
      "bottomHorizontalFaces <class 'list'>\n",
      "internalHorizontalFaces <class 'list'>\n",
      "Cells <class 'list'>\n",
      "brep <class 'str'>\n"
     ]
    }
   ],
   "source": [
    "d = CellComplex.Decompose(p)\n",
    "d['Cells'] = Topology.Cells(p)\n",
    "d['brep'] = brep\n",
    "keys = Dictionary.Keys(d)\n",
    "vertexGroups = []\n",
    "for key in keys:\n",
    "    topologies = d[key]\n",
    "    if len(topologies) > 0:\n",
    "        vertexGroups.append(key)\n",
    "    # print(topologies)\n",
    "    # print(keys)\n",
    "# print(vertexGroups)\n",
    "       \n",
    "def assignDictionary(topologies, vertexGroup):\n",
    "    for i, t in enumerate(topologies):\n",
    "        d = Dictionary.ByKeysValues([\"id\",\"group\", \"brep\"], [vertexGroup+str(i),vertexGroup, brep])\n",
    "        t = Topology.SetDictionary(t, d)\n",
    "        # print(t)\n",
    "        v = Dictionary.ValueAtKey(d, \"group\")\n",
    "        # print(v)\n",
    "    \n",
    "for vertexGroup in vertexGroups:\n",
    "    topologies = d[vertexGroup]\n",
    "    assignDictionary(topologies, vertexGroup)\n",
    "    # print(topologies)\n",
    "    print(vertexGroup, (type(topologies)))\n",
    "    # print(vertexGroups)"
   ]
  },
  {
   "cell_type": "code",
   "execution_count": 6,
   "id": "ffe1f858",
   "metadata": {
    "scrolled": true
   },
   "outputs": [],
   "source": [
    "g = Graph.ByTopology(p, toExteriorTopologies=True, viaSharedTopologies=True, storeBRep=False)\n",
    "data01 = Plotly.DataByGraph(g, vertexGroupKey=\"group\", vertexLabelKey=\"group\",\n",
    "                            vertexGroups=vertexGroups, colorScale=\"thermal\")\n",
    "data02 = Plotly.DataByTopology(p, faceOpacity=0)\n",
    "fig = Plotly.FigureByData(data01+data02)\n",
    "# Plotly.Show(fig)"
   ]
  },
  {
   "cell_type": "code",
   "execution_count": 7,
   "id": "8bb9491e",
   "metadata": {},
   "outputs": [
    {
     "name": "stdout",
     "output_type": "stream",
     "text": [
      "C:/Users/anyde/Documents/PythonTutorials/TopologicPy/pyvisTutorial/diagram.html\n"
     ]
    }
   ],
   "source": [
    "Graph.PyvisGraph(g, \"C:/Users/anyde/Documents/PythonTutorials/TopologicPy/pyvisTutorial/Diagram.html\",\n",
    "                 backgroundColor=\"white\",\n",
    "                 fontColor=\"black\", vertexLabelKey=\"group\", vertexColor=\"#456789\",\n",
    "                 vertexGroupKey=\"group\", vertexGroups=vertexGroups,\n",
    "                 vertexSize=0, vertexSizeKey=\"degree\", vertexColorKey=None,\n",
    "                 edgeWeightKey=None, notebook=False, colorScale=\"thermal\")"
   ]
  },
  {
   "cell_type": "code",
   "execution_count": 8,
   "id": "eff7d8a1",
   "metadata": {
    "scrolled": true
   },
   "outputs": [
    {
     "data": {
      "text/plain": [
       "Graph('bolt://localhost:7687')"
      ]
     },
     "execution_count": 8,
     "metadata": {},
     "output_type": "execute_result"
    }
   ],
   "source": [
    "# Connect to Neo4j database\n",
    "neoGraph = Neo4j.ByParameters(\"bolt://localhost:7687\", \"neo4j\", \"00000000\")\n",
    "\n",
    "# Add Topologic graph to Neo4j database\n",
    "Neo4j.SetGraph(neoGraph, g, labelKey='group')"
   ]
  },
  {
   "cell_type": "code",
   "execution_count": null,
   "id": "b072b0e7",
   "metadata": {},
   "outputs": [],
   "source": []
  }
 ],
 "metadata": {
  "kernelspec": {
   "display_name": "Python 3 (ipykernel)",
   "language": "python",
   "name": "python3"
  },
  "language_info": {
   "codemirror_mode": {
    "name": "ipython",
    "version": 3
   },
   "file_extension": ".py",
   "mimetype": "text/x-python",
   "name": "python",
   "nbconvert_exporter": "python",
   "pygments_lexer": "ipython3",
   "version": "3.10.11"
  }
 },
 "nbformat": 4,
 "nbformat_minor": 5
}
