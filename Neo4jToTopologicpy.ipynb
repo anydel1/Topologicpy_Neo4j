{
 "cells": [
  {
   "cell_type": "code",
   "execution_count": 21,
   "id": "c56b8f0c",
   "metadata": {},
   "outputs": [],
   "source": [
    "from topologicpy.Cell import Cell\n",
    "from topologicpy.CellComplex import CellComplex\n",
    "from topologicpy.Topology import Topology\n",
    "from topologicpy.Graph import Graph\n",
    "from topologicpy.Dictionary import Dictionary\n",
    "from topologicpy.Plotly import Plotly\n",
    "from topologicpy.Neo4j import Neo4j"
   ]
  },
  {
   "cell_type": "code",
   "execution_count": 22,
   "id": "950169a0",
   "metadata": {
    "scrolled": false
   },
   "outputs": [
    {
     "name": "stdout",
     "output_type": "stream",
     "text": [
      "<class 'py2neo.database.Graph'>\n"
     ]
    }
   ],
   "source": [
    "# Connect to Neo4j database\n",
    "neoGraph = Neo4j.ByParameters(\"bolt://localhost:7687\", \"neo4j\", \"00000000\")\n",
    "print(type(neoGraph))"
   ]
  },
  {
   "cell_type": "code",
   "execution_count": 23,
   "id": "352a8ed8",
   "metadata": {
    "scrolled": false
   },
   "outputs": [
    {
     "name": "stdout",
     "output_type": "stream",
     "text": [
      "<class 'topologic.Graph'>\n"
     ]
    }
   ],
   "source": [
    "g = Neo4j.ExportToGraph(neoGraph)\n",
    "print(type(g))"
   ]
  },
  {
   "cell_type": "code",
   "execution_count": 24,
   "id": "18cfc386",
   "metadata": {},
   "outputs": [
    {
     "name": "stdout",
     "output_type": "stream",
     "text": [
      "<class 'dict'>\n",
      "['vertices', 'edges', 'vertexDictionaries', 'edgeDictionaries']\n",
      "vertexDictionaries\n"
     ]
    }
   ],
   "source": [
    "md = Graph.MeshData(g)\n",
    "# print(md) - too large!\n",
    "\n",
    "dkeys = Dictionary.Keys(md)\n",
    "# Dictionary.ValueAtKey b  m  ,\n",
    "print(type(md))\n",
    "print(dkeys)\n",
    "print(dkeys[2])"
   ]
  },
  {
   "cell_type": "code",
   "execution_count": null,
   "id": "6fa0c4e1",
   "metadata": {
    "scrolled": false
   },
   "outputs": [],
   "source": [
    "print(md['vertexDictionaries'][0])"
   ]
  },
  {
   "cell_type": "code",
   "execution_count": null,
   "id": "afabb6ce",
   "metadata": {
    "scrolled": false
   },
   "outputs": [],
   "source": [
    "vlist = (md['vertexDictionaries'][0])\n",
    "brepst = str(vlist)\n",
    "print(type(brepst))\n",
    "print(brepst)"
   ]
  },
  {
   "cell_type": "code",
   "execution_count": 36,
   "id": "57263579",
   "metadata": {
    "scrolled": false
   },
   "outputs": [
    {
     "name": "stdout",
     "output_type": "stream",
     "text": [
      "None\n"
     ]
    }
   ],
   "source": [
    "topologies = Topology.ByBREPString(brepst)\n",
    "print(topologies)"
   ]
  },
  {
   "cell_type": "code",
   "execution_count": null,
   "id": "0846a543",
   "metadata": {},
   "outputs": [],
   "source": []
  }
 ],
 "metadata": {
  "kernelspec": {
   "display_name": "Python 3 (ipykernel)",
   "language": "python",
   "name": "python3"
  },
  "language_info": {
   "codemirror_mode": {
    "name": "ipython",
    "version": 3
   },
   "file_extension": ".py",
   "mimetype": "text/x-python",
   "name": "python",
   "nbconvert_exporter": "python",
   "pygments_lexer": "ipython3",
   "version": "3.10.11"
  }
 },
 "nbformat": 4,
 "nbformat_minor": 5
}
